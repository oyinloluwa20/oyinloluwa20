{
  "nbformat": 4,
  "nbformat_minor": 0,
  "metadata": {
    "colab": {
      "provenance": [],
      "collapsed_sections": [],
      "authorship_tag": "ABX9TyOzSrqz4EPJHiF8S0BUi5FF",
      "include_colab_link": true
    },
    "kernelspec": {
      "name": "python3",
      "display_name": "Python 3"
    },
    "language_info": {
      "name": "python"
    },
    "accelerator": "GPU"
  },
  "cells": [
    {
      "cell_type": "markdown",
      "metadata": {
        "id": "view-in-github",
        "colab_type": "text"
      },
      "source": [
        "<a href=\"https://colab.research.google.com/github/oyinloluwa20/oyinloluwa20/blob/deep-learning-01/fundamentals_01.ipynb\" target=\"_parent\"><img src=\"https://colab.research.google.com/assets/colab-badge.svg\" alt=\"Open In Colab\"/></a>"
      ]
    },
    {
      "cell_type": "code",
      "source": [
        "import torch"
      ],
      "metadata": {
        "id": "9W0YBmDN-pZ5"
      },
      "execution_count": null,
      "outputs": []
    },
    {
      "cell_type": "code",
      "execution_count": null,
      "metadata": {
        "colab": {
          "base_uri": "https://localhost:8080/"
        },
        "id": "QcUTK1hf8sMr",
        "outputId": "2c5fd7ef-53ad-414d-cb53-36421ab9896f"
      },
      "outputs": [
        {
          "output_type": "execute_result",
          "data": {
            "text/plain": [
              "tensor([[0.8729, 0.9422, 0.5829, 0.3558],\n",
              "        [0.9394, 0.3496, 0.5028, 0.6807],\n",
              "        [0.0830, 0.3280, 0.7025, 0.3841]])"
            ]
          },
          "metadata": {},
          "execution_count": 2
        }
      ],
      "source": [
        "#Create a tensor\n",
        "some_tensor = torch.rand(3,4)\n",
        "some_tensor"
      ]
    },
    {
      "cell_type": "code",
      "source": [
        "#Find out details about a tensor\n",
        "print(some_tensor)\n",
        "print(f'Datatype of tensor:{ some_tensor.dtype}')\n",
        "print(f'Shape of tensor:{ some_tensor.shape}')\n",
        "print(f'The Device the tensor is on:{ some_tensor.device}')"
      ],
      "metadata": {
        "colab": {
          "base_uri": "https://localhost:8080/"
        },
        "id": "qADehQTI-1Ms",
        "outputId": "f136bf16-b26e-4f69-ddaf-006b527c6eb3"
      },
      "execution_count": null,
      "outputs": [
        {
          "output_type": "stream",
          "name": "stdout",
          "text": [
            "tensor([[0.8729, 0.9422, 0.5829, 0.3558],\n",
            "        [0.9394, 0.3496, 0.5028, 0.6807],\n",
            "        [0.0830, 0.3280, 0.7025, 0.3841]])\n",
            "Datatype of tensor:torch.float32\n",
            "Shape of tensor:torch.Size([3, 4])\n",
            "The Device the tensor is on:cpu\n"
          ]
        }
      ]
    },
    {
      "cell_type": "code",
      "source": [
        "#Manipulating Tensors (Tensor operations)\n",
        "tensor = torch.tensor([1,2,3])\n",
        "tensor + 10"
      ],
      "metadata": {
        "colab": {
          "base_uri": "https://localhost:8080/"
        },
        "id": "u9fDf0mkAIi0",
        "outputId": "fdd0e0bc-4519-440c-d945-b5c46bb89028"
      },
      "execution_count": null,
      "outputs": [
        {
          "output_type": "execute_result",
          "data": {
            "text/plain": [
              "tensor([11, 12, 13])"
            ]
          },
          "metadata": {},
          "execution_count": 4
        }
      ]
    },
    {
      "cell_type": "markdown",
      "source": [],
      "metadata": {
        "id": "fDUcjMvc-O7i"
      }
    },
    {
      "cell_type": "code",
      "source": [
        "tensor *10"
      ],
      "metadata": {
        "colab": {
          "base_uri": "https://localhost:8080/"
        },
        "id": "FStj1sHmBMXo",
        "outputId": "8ccefefd-2258-49e2-92c9-a59801f5c9f5"
      },
      "execution_count": null,
      "outputs": [
        {
          "output_type": "execute_result",
          "data": {
            "text/plain": [
              "tensor([10, 20, 30])"
            ]
          },
          "metadata": {},
          "execution_count": 5
        }
      ]
    },
    {
      "cell_type": "code",
      "source": [
        "tensor -10"
      ],
      "metadata": {
        "id": "6o7aUWobBnoK",
        "colab": {
          "base_uri": "https://localhost:8080/"
        },
        "outputId": "518f4f4c-aefb-42fe-d0e5-c5309ae0ad1e"
      },
      "execution_count": null,
      "outputs": [
        {
          "output_type": "execute_result",
          "data": {
            "text/plain": [
              "tensor([-9, -8, -7])"
            ]
          },
          "metadata": {},
          "execution_count": 6
        }
      ]
    },
    {
      "cell_type": "code",
      "source": [
        "## matrix matiplication\n",
        "%%time\n",
        "torch.matmul(tensor,tensor)"
      ],
      "metadata": {
        "colab": {
          "base_uri": "https://localhost:8080/"
        },
        "id": "IvSP992tBqUo",
        "outputId": "14bbe7b5-a186-4003-ef37-8aa46050a265"
      },
      "execution_count": null,
      "outputs": [
        {
          "output_type": "stream",
          "name": "stdout",
          "text": [
            "CPU times: user 1.1 ms, sys: 1.03 ms, total: 2.13 ms\n",
            "Wall time: 5.15 ms\n"
          ]
        },
        {
          "output_type": "execute_result",
          "data": {
            "text/plain": [
              "tensor(14)"
            ]
          },
          "metadata": {},
          "execution_count": 7
        }
      ]
    },
    {
      "cell_type": "code",
      "source": [
        "#matrix multiplication by hand\n",
        "1*1+2*2+3*3"
      ],
      "metadata": {
        "colab": {
          "base_uri": "https://localhost:8080/"
        },
        "id": "Rsrqf05YDg_Q",
        "outputId": "7986d4f3-697a-46d3-ebaf-e34d166362a7"
      },
      "execution_count": null,
      "outputs": [
        {
          "output_type": "execute_result",
          "data": {
            "text/plain": [
              "14"
            ]
          },
          "metadata": {},
          "execution_count": 8
        }
      ]
    },
    {
      "cell_type": "code",
      "source": [
        "tensor_A =torch.tensor([[1,2],\n",
        "                        [3,4],\n",
        "                        [5,6]])\n",
        "\n",
        "tensor_B =torch.tensor([[7,10],\n",
        "                        [8,11],\n",
        "                        [9,12]])\n",
        "#torch.mm(tensor_A, tensor_B) \n",
        "# torch.mm is the equivalent of matmul, i.e matrix multiplication\n",
        "# Also the multiplication of tensor of the same shape wont work, so you get the transpose of one the tensors"
      ],
      "metadata": {
        "id": "XKsfCF6norsW"
      },
      "execution_count": null,
      "outputs": []
    },
    {
      "cell_type": "code",
      "source": [
        "tensor_B, tensor_B.shape"
      ],
      "metadata": {
        "colab": {
          "base_uri": "https://localhost:8080/"
        },
        "id": "jAzQ42G7rghX",
        "outputId": "4065325d-ab25-440c-b880-38de0917464f"
      },
      "execution_count": null,
      "outputs": [
        {
          "output_type": "execute_result",
          "data": {
            "text/plain": [
              "(tensor([[ 7, 10],\n",
              "         [ 8, 11],\n",
              "         [ 9, 12]]), torch.Size([3, 2]))"
            ]
          },
          "metadata": {},
          "execution_count": 10
        }
      ]
    },
    {
      "cell_type": "code",
      "source": [
        "tensor_B.T, tensor_B.T.shape"
      ],
      "metadata": {
        "colab": {
          "base_uri": "https://localhost:8080/"
        },
        "id": "BKfeYdHprqUk",
        "outputId": "b4afa4dd-e5fa-4382-a746-9587bb0ca3b0"
      },
      "execution_count": null,
      "outputs": [
        {
          "output_type": "execute_result",
          "data": {
            "text/plain": [
              "(tensor([[ 7,  8,  9],\n",
              "         [10, 11, 12]]), torch.Size([2, 3]))"
            ]
          },
          "metadata": {},
          "execution_count": 11
        }
      ]
    },
    {
      "cell_type": "code",
      "source": [
        "torch.mm(tensor_A,tensor_B.T)"
      ],
      "metadata": {
        "colab": {
          "base_uri": "https://localhost:8080/"
        },
        "id": "dHvK4g31uAHm",
        "outputId": "ee31a9ef-3df5-4d46-c09b-ed5191065982"
      },
      "execution_count": null,
      "outputs": [
        {
          "output_type": "execute_result",
          "data": {
            "text/plain": [
              "tensor([[ 27,  30,  33],\n",
              "        [ 61,  68,  75],\n",
              "        [ 95, 106, 117]])"
            ]
          },
          "metadata": {},
          "execution_count": 12
        }
      ]
    },
    {
      "cell_type": "markdown",
      "source": [
        "**Finding the min, max,sum of tensor (tensor aggregation)**"
      ],
      "metadata": {
        "id": "gvbsHNE7uSnF"
      }
    },
    {
      "cell_type": "markdown",
      "source": [
        "create a tensor"
      ],
      "metadata": {
        "id": "i-49IUy0vPvY"
      }
    },
    {
      "cell_type": "code",
      "source": [
        "x =torch.arange(0,100,10)\n",
        "x"
      ],
      "metadata": {
        "colab": {
          "base_uri": "https://localhost:8080/"
        },
        "id": "ArnrkocMuvw_",
        "outputId": "50157196-b1e8-449a-edc1-d111a33c0efd"
      },
      "execution_count": null,
      "outputs": [
        {
          "output_type": "execute_result",
          "data": {
            "text/plain": [
              "tensor([ 0, 10, 20, 30, 40, 50, 60, 70, 80, 90])"
            ]
          },
          "metadata": {},
          "execution_count": 13
        }
      ]
    },
    {
      "cell_type": "markdown",
      "source": [
        "find the min"
      ],
      "metadata": {
        "id": "j1t-bxmyvNaf"
      }
    },
    {
      "cell_type": "code",
      "source": [
        "torch.min(x),x.min()"
      ],
      "metadata": {
        "colab": {
          "base_uri": "https://localhost:8080/"
        },
        "id": "JyV6oE4gvFJu",
        "outputId": "ef0adbac-17e2-4c1b-d143-f3d831bd8d17"
      },
      "execution_count": null,
      "outputs": [
        {
          "output_type": "execute_result",
          "data": {
            "text/plain": [
              "(tensor(0), tensor(0))"
            ]
          },
          "metadata": {},
          "execution_count": 14
        }
      ]
    },
    {
      "cell_type": "markdown",
      "source": [
        "find the max"
      ],
      "metadata": {
        "id": "87tBnJSsv3-o"
      }
    },
    {
      "cell_type": "code",
      "source": [
        "torch.max(x), x.max()"
      ],
      "metadata": {
        "colab": {
          "base_uri": "https://localhost:8080/"
        },
        "id": "5-PchXV5v2i8",
        "outputId": "39475a48-50d0-442b-8b41-9babbd06f634"
      },
      "execution_count": null,
      "outputs": [
        {
          "output_type": "execute_result",
          "data": {
            "text/plain": [
              "(tensor(90), tensor(90))"
            ]
          },
          "metadata": {},
          "execution_count": 15
        }
      ]
    },
    {
      "cell_type": "markdown",
      "source": [
        "find the mean"
      ],
      "metadata": {
        "id": "B-y9ZGTQwxcj"
      }
    },
    {
      "cell_type": "code",
      "source": [
        "torch.mean(x)"
      ],
      "metadata": {
        "colab": {
          "base_uri": "https://localhost:8080/",
          "height": 183
        },
        "id": "Ow0GOWP7w2p-",
        "outputId": "6d4cdb41-0808-4037-8668-4a32f89e104e"
      },
      "execution_count": null,
      "outputs": [
        {
          "output_type": "error",
          "ename": "RuntimeError",
          "evalue": "ignored",
          "traceback": [
            "\u001b[0;31m---------------------------------------------------------------------------\u001b[0m",
            "\u001b[0;31mRuntimeError\u001b[0m                              Traceback (most recent call last)",
            "\u001b[0;32m<ipython-input-16-455868396db1>\u001b[0m in \u001b[0;36m<module>\u001b[0;34m\u001b[0m\n\u001b[0;32m----> 1\u001b[0;31m \u001b[0mtorch\u001b[0m\u001b[0;34m.\u001b[0m\u001b[0mmean\u001b[0m\u001b[0;34m(\u001b[0m\u001b[0mx\u001b[0m\u001b[0;34m)\u001b[0m\u001b[0;34m\u001b[0m\u001b[0;34m\u001b[0m\u001b[0m\n\u001b[0m",
            "\u001b[0;31mRuntimeError\u001b[0m: mean(): could not infer output dtype. Input dtype must be either a floating point or complex dtype. Got: Long"
          ]
        }
      ]
    },
    {
      "cell_type": "code",
      "source": [
        "#The datatype when finding the mean should always be floating point or cmplex dtype\n",
        "torch.mean(x.type(torch.float32)), x.type(torch.float32).mean()"
      ],
      "metadata": {
        "id": "Ee7Gj7p6w_K1"
      },
      "execution_count": null,
      "outputs": []
    },
    {
      "cell_type": "markdown",
      "source": [
        "Find the sum"
      ],
      "metadata": {
        "id": "UCcb1xlByKbV"
      }
    },
    {
      "cell_type": "code",
      "source": [
        "torch.sum(x), x.sum()"
      ],
      "metadata": {
        "id": "1KuTf4vzyMrJ"
      },
      "execution_count": null,
      "outputs": []
    },
    {
      "cell_type": "markdown",
      "source": [
        "**Finding the positional max and mix value with argmax and argmin**"
      ],
      "metadata": {
        "id": "GBj0bT3gznN3"
      }
    },
    {
      "cell_type": "code",
      "source": [
        "torch.argmax(x)"
      ],
      "metadata": {
        "id": "xRKO-EGwz9q4"
      },
      "execution_count": null,
      "outputs": []
    },
    {
      "cell_type": "code",
      "source": [
        "torch.argmin(x)"
      ],
      "metadata": {
        "id": "GlWn5jnO0Io5"
      },
      "execution_count": null,
      "outputs": []
    },
    {
      "cell_type": "code",
      "source": [
        "# Using the positional max and min value as the matrix index\n",
        "x[torch.argmax(x)], x[torch.argmin(x)]"
      ],
      "metadata": {
        "id": "iUvCqL4-0ML7"
      },
      "execution_count": null,
      "outputs": []
    },
    {
      "cell_type": "markdown",
      "source": [
        "**Reshaping, stacking, squeezing and unsqueezing**"
      ],
      "metadata": {
        "id": "ncETplhv1lfs"
      }
    },
    {
      "cell_type": "markdown",
      "source": [
        "* Reshaping - reshapes an input tensor to a defined shape\n",
        "* view - return a view of an input tensor of certain shape but keep the same memory as the original tensor\n",
        "*stacking -combine multiple tensors on top of each other(vstack) or side by side(hstack)\n",
        "*squeeze -removes all '1' dimensions from a tensor\n",
        "*unsqeeze - add a '1' dimension to a target tensor\n",
        "*permute - return a view of the input with dimensions permutted(swapped) in a certain way"
      ],
      "metadata": {
        "id": "SWSnruoI5PaY"
      }
    },
    {
      "cell_type": "code",
      "source": [
        "a = torch.arange(1.0,10.0)\n",
        "a, a.shape"
      ],
      "metadata": {
        "id": "unl0zfFO0m99"
      },
      "execution_count": null,
      "outputs": []
    },
    {
      "cell_type": "code",
      "source": [
        "#Add an extra dimension\n",
        "a_reshaped = a.reshape(1,9)\n",
        "a_reshaped,  a_reshaped.shape\n",
        "#Note the reshape has to be compatible with the original size"
      ],
      "metadata": {
        "id": "jN_E24OX6rqv"
      },
      "execution_count": null,
      "outputs": []
    },
    {
      "cell_type": "code",
      "source": [
        "#change the view\n",
        "z=a.view(1,9)\n",
        "z, z.shape\n"
      ],
      "metadata": {
        "id": "ywOlolfL6-mN"
      },
      "execution_count": null,
      "outputs": []
    },
    {
      "cell_type": "code",
      "source": [
        "#changing z changes a because z shares the memory as a(the original input)\n",
        "z[:, 0] = 5\n",
        "z,a"
      ],
      "metadata": {
        "id": "-sGbDBox769Z"
      },
      "execution_count": null,
      "outputs": []
    },
    {
      "cell_type": "code",
      "source": [
        "# stack tensors on top of each other\n",
        "a_stacked = torch.stack([a,a,a,a], dim = 0)\n",
        "a_stacked\n"
      ],
      "metadata": {
        "id": "ZC7DN297768B"
      },
      "execution_count": null,
      "outputs": []
    },
    {
      "cell_type": "code",
      "source": [
        "a_stacked = torch.stack([a,a], dim = 1)\n",
        "a_stacked"
      ],
      "metadata": {
        "id": "vrf9eckz766w"
      },
      "execution_count": null,
      "outputs": []
    },
    {
      "cell_type": "code",
      "source": [
        "#removes all 1 dimension in a tensor\n",
        "b = a_reshaped.squeeze()\n",
        "b, b.shape"
      ],
      "metadata": {
        "id": "g1q6ArOF765M"
      },
      "execution_count": null,
      "outputs": []
    },
    {
      "cell_type": "code",
      "source": [
        "#torch.unsqueeze() - adds an extra dimension to a target tensor at a specific dim\n",
        "print(f\"The squeezed tensor is {b} with a shape of {b.shape}\")\n",
        "# adding a 1 dimension to the zero index\n",
        "b_unsqueeze =b.unsqueeze(dim =0)\n",
        "print(f'The unsqueesed tensor {b_unsqueeze} has a shape of {b_unsqueeze.shape} ')"
      ],
      "metadata": {
        "id": "Nl66G4xm763P"
      },
      "execution_count": null,
      "outputs": []
    },
    {
      "cell_type": "code",
      "source": [
        "#torch.permute - rearranges the dimension of a target tensor in a specificied order\n",
        "\n",
        "x = torch.randn([3,5,8])\n",
        "x.shape\n",
        "x1= torch.permute(x,(2,0,1))\n",
        "x1.shape"
      ],
      "metadata": {
        "id": "2v1lK_CI76Vp"
      },
      "execution_count": null,
      "outputs": []
    },
    {
      "cell_type": "markdown",
      "source": [
        "**Indexing (selecting data fom tensors)**"
      ],
      "metadata": {
        "id": "byw1unWpeBFw"
      }
    },
    {
      "cell_type": "code",
      "source": [
        "# STEP 1 : Create a Tensor\n",
        "import torch\n",
        "x = torch.arange(1,10).reshape(1,3,3)\n",
        "x, x.shape"
      ],
      "metadata": {
        "id": "CAZ7egsr76QQ",
        "colab": {
          "base_uri": "https://localhost:8080/"
        },
        "outputId": "5c830211-d25f-4e9a-b335-4da827ac05d3"
      },
      "execution_count": null,
      "outputs": [
        {
          "output_type": "execute_result",
          "data": {
            "text/plain": [
              "(tensor([[[1, 2, 3],\n",
              "          [4, 5, 6],\n",
              "          [7, 8, 9]]]), torch.Size([1, 3, 3]))"
            ]
          },
          "metadata": {},
          "execution_count": 17
        }
      ]
    },
    {
      "cell_type": "code",
      "source": [
        "x[0]"
      ],
      "metadata": {
        "id": "PvNiqhAz76N-"
      },
      "execution_count": null,
      "outputs": []
    },
    {
      "cell_type": "code",
      "source": [
        "x[0,0]"
      ],
      "metadata": {
        "id": "yDyPBDRh76Mj"
      },
      "execution_count": null,
      "outputs": []
    },
    {
      "cell_type": "code",
      "source": [
        "x[0,1,1]"
      ],
      "metadata": {
        "id": "rqGjwktJ76Kv"
      },
      "execution_count": null,
      "outputs": []
    },
    {
      "cell_type": "code",
      "source": [
        "x[0,2,2]"
      ],
      "metadata": {
        "id": "T0XUrRM176DP"
      },
      "execution_count": null,
      "outputs": []
    },
    {
      "cell_type": "code",
      "source": [
        "#you can use : to select all the dimension of a target tensor\n",
        "x[:,0]"
      ],
      "metadata": {
        "id": "CcLCLseA76B2"
      },
      "execution_count": null,
      "outputs": []
    },
    {
      "cell_type": "code",
      "source": [
        "# Get all the values of 0th and 1st dimension but only index one of the 1 dimension\n",
        "x[:,: ,1]"
      ],
      "metadata": {
        "id": "LnJZ7HyS758f"
      },
      "execution_count": null,
      "outputs": []
    },
    {
      "cell_type": "markdown",
      "source": [
        "**Pytorch tensors & Numpy** :\n",
        "Numpy is a popular scientific python numerical computing library and because of this,Pytorch has functionality to interact with it.\n",
        "* To convert data in Numpy to pyTorch tensor -> torch.from_numpy(ndarray)\n",
        "* To convert pytorch tensor to numpy -> torch.Tensor.numpy()"
      ],
      "metadata": {
        "id": "FYbvBGuwmcn2"
      }
    },
    {
      "cell_type": "code",
      "source": [
        "import torch\n",
        "import numpy as np"
      ],
      "metadata": {
        "id": "4K7Ob-r3756v"
      },
      "execution_count": null,
      "outputs": []
    },
    {
      "cell_type": "code",
      "source": [
        "#The default datatype for numpy is float64, while the default datatype for pytorch is float 32\n",
        "#To convert from float64 to float32, you use the '.type(torch.float32)'\n",
        "#the torch.from_numpy takes no prameter\n",
        "array =np.arange(1.0, 8.0)\n",
        "tensor = torch.from_numpy(array).type(torch.float32)\n",
        "array, tensor"
      ],
      "metadata": {
        "id": "Vn2V4GVB753x",
        "colab": {
          "base_uri": "https://localhost:8080/"
        },
        "outputId": "6441f57c-a0cc-4f41-828f-9718d1513599"
      },
      "execution_count": null,
      "outputs": [
        {
          "output_type": "execute_result",
          "data": {
            "text/plain": [
              "(array([1., 2., 3., 4., 5., 6., 7.]), tensor([1., 2., 3., 4., 5., 6., 7.]))"
            ]
          },
          "metadata": {},
          "execution_count": 23
        }
      ]
    },
    {
      "cell_type": "code",
      "source": [
        "#Tensor to Numpy array\n",
        "#when converting from either pytorch to numpy or numpy to pytorch it is import to know that the default datatype does not change\n",
        "#The newly converted tensor does not share the same location in memory, so a change inthe value of an array after it has been converted does not lead to a change in data in the converted tensor and vice-versa\n",
        "tensor = torch.ones(7)\n",
        "numpy_tensor = tensor.numpy()\n",
        "tensor, numpy_tensor"
      ],
      "metadata": {
        "id": "4fJquTxq752t",
        "colab": {
          "base_uri": "https://localhost:8080/"
        },
        "outputId": "bc5f0eaa-2272-4b7f-ff83-554bb51e26b4"
      },
      "execution_count": null,
      "outputs": [
        {
          "output_type": "execute_result",
          "data": {
            "text/plain": [
              "(tensor([1., 1., 1., 1., 1., 1., 1.]),\n",
              " array([1., 1., 1., 1., 1., 1., 1.], dtype=float32))"
            ]
          },
          "metadata": {},
          "execution_count": 26
        }
      ]
    },
    {
      "cell_type": "code",
      "source": [],
      "metadata": {
        "id": "X3tnmJ7XBNyr"
      },
      "execution_count": null,
      "outputs": []
    },
    {
      "cell_type": "markdown",
      "source": [
        "Reproducibility (trying to take the randomness out of random)\n",
        "\n",
        "To reduce the randomness in neural networks and pytorch comes the concept of **random seed**\n",
        "\n",
        "Essentially what the random seed is \"flavour\" the randomness\n",
        "\n"
      ],
      "metadata": {
        "id": "o3w2gie8BHnU"
      }
    },
    {
      "cell_type": "code",
      "source": [
        "#Let create a random but reproducable tensor\n",
        "#The random seed can be any number and it should be set before everytime before the random number is generated\n",
        "\n",
        "RANDOM_SEED = 42\n",
        "torch.manual_seed(RANDOM_SEED)\n",
        "random_tensor_A =torch.rand(3,4)\n",
        "\n",
        "RANDOM_SEED = 42\n",
        "torch.manual_seed(RANDOM_SEED)\n",
        "random_tensor_B =torch.rand(3,4)\n",
        "\n",
        "print(random_tensor_A)\n",
        "print(random_tensor_B)\n",
        "print(random_tensor_B== random_tensor_B)"
      ],
      "metadata": {
        "id": "stcP8R-l75y5",
        "colab": {
          "base_uri": "https://localhost:8080/"
        },
        "outputId": "430f83bd-8ded-4545-fc79-eb8bb15abc01"
      },
      "execution_count": null,
      "outputs": [
        {
          "output_type": "stream",
          "name": "stdout",
          "text": [
            "tensor([[0.8823, 0.9150, 0.3829, 0.9593],\n",
            "        [0.3904, 0.6009, 0.2566, 0.7936],\n",
            "        [0.9408, 0.1332, 0.9346, 0.5936]])\n",
            "tensor([[0.8823, 0.9150, 0.3829, 0.9593],\n",
            "        [0.3904, 0.6009, 0.2566, 0.7936],\n",
            "        [0.9408, 0.1332, 0.9346, 0.5936]])\n",
            "tensor([[True, True, True, True],\n",
            "        [True, True, True, True],\n",
            "        [True, True, True, True]])\n"
          ]
        }
      ]
    },
    {
      "cell_type": "markdown",
      "source": [
        "##Running tensors and pytorch objects on the Gpu and making it faster\n"
      ],
      "metadata": {
        "id": "FFq4mpSuJBS1"
      }
    },
    {
      "cell_type": "code",
      "source": [
        "import torch\n",
        "torch.cuda.is_available()"
      ],
      "metadata": {
        "id": "CEZSDBwV75t4",
        "colab": {
          "base_uri": "https://localhost:8080/"
        },
        "outputId": "1825754a-bb49-43c0-c814-d261f283a1ef"
      },
      "execution_count": null,
      "outputs": [
        {
          "output_type": "execute_result",
          "data": {
            "text/plain": [
              "True"
            ]
          },
          "metadata": {},
          "execution_count": 1
        }
      ]
    },
    {
      "cell_type": "code",
      "source": [
        "!nvidia-smi"
      ],
      "metadata": {
        "id": "k33692_L75qX",
        "colab": {
          "base_uri": "https://localhost:8080/"
        },
        "outputId": "1ca01126-42e2-433d-b3a6-9193e488554e"
      },
      "execution_count": null,
      "outputs": [
        {
          "output_type": "stream",
          "name": "stdout",
          "text": [
            "Sun Sep 25 14:56:00 2022       \n",
            "+-----------------------------------------------------------------------------+\n",
            "| NVIDIA-SMI 460.32.03    Driver Version: 460.32.03    CUDA Version: 11.2     |\n",
            "|-------------------------------+----------------------+----------------------+\n",
            "| GPU  Name        Persistence-M| Bus-Id        Disp.A | Volatile Uncorr. ECC |\n",
            "| Fan  Temp  Perf  Pwr:Usage/Cap|         Memory-Usage | GPU-Util  Compute M. |\n",
            "|                               |                      |               MIG M. |\n",
            "|===============================+======================+======================|\n",
            "|   0  Tesla T4            Off  | 00000000:00:04.0 Off |                    0 |\n",
            "| N/A   67C    P8    11W /  70W |      3MiB / 15109MiB |      0%      Default |\n",
            "|                               |                      |                  N/A |\n",
            "+-------------------------------+----------------------+----------------------+\n",
            "                                                                               \n",
            "+-----------------------------------------------------------------------------+\n",
            "| Processes:                                                                  |\n",
            "|  GPU   GI   CI        PID   Type   Process name                  GPU Memory |\n",
            "|        ID   ID                                                   Usage      |\n",
            "|=============================================================================|\n",
            "|  No running processes found                                                 |\n",
            "+-----------------------------------------------------------------------------+\n"
          ]
        }
      ]
    },
    {
      "cell_type": "code",
      "source": [
        "#Setup device agnostic code\n",
        "device = \"cuda\" if torch.cuda.is_available() else \"cpu\"\n",
        "device"
      ],
      "metadata": {
        "id": "ppC1MN7S75nn",
        "colab": {
          "base_uri": "https://localhost:8080/",
          "height": 35
        },
        "outputId": "c0e8b69f-6a04-45c7-9bf3-13c932eb1021"
      },
      "execution_count": null,
      "outputs": [
        {
          "output_type": "execute_result",
          "data": {
            "text/plain": [
              "'cuda'"
            ],
            "application/vnd.google.colaboratory.intrinsic+json": {
              "type": "string"
            }
          },
          "metadata": {},
          "execution_count": 3
        }
      ]
    },
    {
      "cell_type": "code",
      "source": [
        "#Count number of devices\n",
        "torch.cuda.device_count()"
      ],
      "metadata": {
        "id": "QALytzGz75JB",
        "colab": {
          "base_uri": "https://localhost:8080/"
        },
        "outputId": "1277deeb-1ac3-4fd8-ebec-9b73ccb435b3"
      },
      "execution_count": null,
      "outputs": [
        {
          "output_type": "execute_result",
          "data": {
            "text/plain": [
              "1"
            ]
          },
          "metadata": {},
          "execution_count": 4
        }
      ]
    },
    {
      "cell_type": "code",
      "source": [],
      "metadata": {
        "id": "ipDZ77sq7477"
      },
      "execution_count": null,
      "outputs": []
    },
    {
      "cell_type": "code",
      "source": [],
      "metadata": {
        "id": "oxEfh8Nl745n"
      },
      "execution_count": null,
      "outputs": []
    },
    {
      "cell_type": "code",
      "source": [],
      "metadata": {
        "id": "JWcDNjtq74t-"
      },
      "execution_count": null,
      "outputs": []
    },
    {
      "cell_type": "code",
      "source": [],
      "metadata": {
        "id": "qg2P2Eu874pK"
      },
      "execution_count": null,
      "outputs": []
    },
    {
      "cell_type": "code",
      "source": [],
      "metadata": {
        "id": "Ny3J0pWP74gn"
      },
      "execution_count": null,
      "outputs": []
    },
    {
      "cell_type": "code",
      "source": [],
      "metadata": {
        "id": "kWlBxNJd73_5"
      },
      "execution_count": null,
      "outputs": []
    }
  ]
}