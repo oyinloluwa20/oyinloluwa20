{
  "nbformat": 4,
  "nbformat_minor": 0,
  "metadata": {
    "colab": {
      "provenance": [],
      "authorship_tag": "ABX9TyOLNiy4YdA6tgAeRLmm8+Bm",
      "include_colab_link": true
    },
    "kernelspec": {
      "name": "python3",
      "display_name": "Python 3"
    },
    "language_info": {
      "name": "python"
    }
  },
  "cells": [
    {
      "cell_type": "markdown",
      "metadata": {
        "id": "view-in-github",
        "colab_type": "text"
      },
      "source": [
        "<a href=\"https://colab.research.google.com/github/oyinloluwa20/oyinloluwa20/blob/deep-learning-01/fundamentals_01.ipynb\" target=\"_parent\"><img src=\"https://colab.research.google.com/assets/colab-badge.svg\" alt=\"Open In Colab\"/></a>"
      ]
    },
    {
      "cell_type": "code",
      "source": [
        "import torch"
      ],
      "metadata": {
        "id": "9W0YBmDN-pZ5"
      },
      "execution_count": 2,
      "outputs": []
    },
    {
      "cell_type": "code",
      "execution_count": 3,
      "metadata": {
        "colab": {
          "base_uri": "https://localhost:8080/"
        },
        "id": "QcUTK1hf8sMr",
        "outputId": "a082ab0e-c444-48e6-b822-eccdba3c85c4"
      },
      "outputs": [
        {
          "output_type": "execute_result",
          "data": {
            "text/plain": [
              "tensor([[0.3255, 0.3945, 0.4946, 0.1608],\n",
              "        [0.7537, 0.3713, 0.1944, 0.8483],\n",
              "        [0.4951, 0.6458, 0.8319, 0.5790]])"
            ]
          },
          "metadata": {},
          "execution_count": 3
        }
      ],
      "source": [
        "#Create a tensor\n",
        "some_tensor = torch.rand(3,4)\n",
        "some_tensor"
      ]
    },
    {
      "cell_type": "code",
      "source": [
        "#Find out details about a tensor\n",
        "print(some_tensor)\n",
        "print(f'Datatype of tensor:{ some_tensor.dtype}')\n",
        "print(f'Shape of tensor:{ some_tensor.shape}')\n",
        "print(f'The Device the tensor is on:{ some_tensor.device}')"
      ],
      "metadata": {
        "colab": {
          "base_uri": "https://localhost:8080/"
        },
        "id": "qADehQTI-1Ms",
        "outputId": "10c65d4a-4d01-4b1d-b750-87c20dc9dded"
      },
      "execution_count": 4,
      "outputs": [
        {
          "output_type": "stream",
          "name": "stdout",
          "text": [
            "tensor([[0.3255, 0.3945, 0.4946, 0.1608],\n",
            "        [0.7537, 0.3713, 0.1944, 0.8483],\n",
            "        [0.4951, 0.6458, 0.8319, 0.5790]])\n",
            "Datatype of tensor:torch.float32\n",
            "Shape of tensor:torch.Size([3, 4])\n",
            "The Device the tensor is on:cpu\n"
          ]
        }
      ]
    },
    {
      "cell_type": "code",
      "source": [
        "#Manipulating Tensors (Tensor operations)\n",
        "tensor = torch.tensor([1,2,3])\n",
        "tensor + 10"
      ],
      "metadata": {
        "colab": {
          "base_uri": "https://localhost:8080/"
        },
        "id": "u9fDf0mkAIi0",
        "outputId": "f6cd8883-97c7-47d6-9560-ddda392d193d"
      },
      "execution_count": 5,
      "outputs": [
        {
          "output_type": "execute_result",
          "data": {
            "text/plain": [
              "tensor([11, 12, 13])"
            ]
          },
          "metadata": {},
          "execution_count": 5
        }
      ]
    },
    {
      "cell_type": "markdown",
      "source": [],
      "metadata": {
        "id": "fDUcjMvc-O7i"
      }
    },
    {
      "cell_type": "code",
      "source": [
        "tensor *10"
      ],
      "metadata": {
        "colab": {
          "base_uri": "https://localhost:8080/"
        },
        "id": "FStj1sHmBMXo",
        "outputId": "c2d8737d-8bba-4bae-d41c-d97e9dba988d"
      },
      "execution_count": 6,
      "outputs": [
        {
          "output_type": "execute_result",
          "data": {
            "text/plain": [
              "tensor([10, 20, 30])"
            ]
          },
          "metadata": {},
          "execution_count": 6
        }
      ]
    },
    {
      "cell_type": "code",
      "source": [
        "tensor -10"
      ],
      "metadata": {
        "id": "6o7aUWobBnoK"
      },
      "execution_count": null,
      "outputs": []
    },
    {
      "cell_type": "code",
      "source": [
        "## matrix matiplication\n",
        "torch.matmul(tensor,tensor)"
      ],
      "metadata": {
        "colab": {
          "base_uri": "https://localhost:8080/"
        },
        "id": "IvSP992tBqUo",
        "outputId": "efeb3ea3-21c9-4987-ccdd-20666410cd15"
      },
      "execution_count": 7,
      "outputs": [
        {
          "output_type": "execute_result",
          "data": {
            "text/plain": [
              "tensor(14)"
            ]
          },
          "metadata": {},
          "execution_count": 7
        }
      ]
    },
    {
      "cell_type": "code",
      "source": [
        "#matrix multiplication by hand\n",
        "1*1+2*2+3*3"
      ],
      "metadata": {
        "colab": {
          "base_uri": "https://localhost:8080/"
        },
        "id": "Rsrqf05YDg_Q",
        "outputId": "fb163120-d05a-4d60-e6d7-49d76501f727"
      },
      "execution_count": 8,
      "outputs": [
        {
          "output_type": "execute_result",
          "data": {
            "text/plain": [
              "14"
            ]
          },
          "metadata": {},
          "execution_count": 8
        }
      ]
    }
  ]
}