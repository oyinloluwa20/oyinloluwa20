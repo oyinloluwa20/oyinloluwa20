{
  "nbformat": 4,
  "nbformat_minor": 0,
  "metadata": {
    "colab": {
      "provenance": [],
      "collapsed_sections": [],
      "authorship_tag": "ABX9TyMPzQpjpgBjZ1BIN74GVWqx",
      "include_colab_link": true
    },
    "kernelspec": {
      "name": "python3",
      "display_name": "Python 3"
    },
    "language_info": {
      "name": "python"
    }
  },
  "cells": [
    {
      "cell_type": "markdown",
      "metadata": {
        "id": "view-in-github",
        "colab_type": "text"
      },
      "source": [
        "<a href=\"https://colab.research.google.com/github/oyinloluwa20/oyinloluwa20/blob/deep-learning-01/fundamentals_01.ipynb\" target=\"_parent\"><img src=\"https://colab.research.google.com/assets/colab-badge.svg\" alt=\"Open In Colab\"/></a>"
      ]
    },
    {
      "cell_type": "code",
      "source": [
        "import torch"
      ],
      "metadata": {
        "id": "9W0YBmDN-pZ5"
      },
      "execution_count": 1,
      "outputs": []
    },
    {
      "cell_type": "code",
      "execution_count": 2,
      "metadata": {
        "colab": {
          "base_uri": "https://localhost:8080/"
        },
        "id": "QcUTK1hf8sMr",
        "outputId": "4d855657-0e77-41d8-fcc8-b238b96ab849"
      },
      "outputs": [
        {
          "output_type": "execute_result",
          "data": {
            "text/plain": [
              "tensor([[0.8654, 0.0491, 0.2346, 0.0226],\n",
              "        [0.2491, 0.1469, 0.1760, 0.1718],\n",
              "        [0.6031, 0.2690, 0.9398, 0.4696]])"
            ]
          },
          "metadata": {},
          "execution_count": 2
        }
      ],
      "source": [
        "#Create a tensor\n",
        "some_tensor = torch.rand(3,4)\n",
        "some_tensor"
      ]
    },
    {
      "cell_type": "code",
      "source": [
        "#Find out details about a tensor\n",
        "print(some_tensor)\n",
        "print(f'Datatype of tensor:{ some_tensor.dtype}')\n",
        "print(f'Shape of tensor:{ some_tensor.shape}')\n",
        "print(f'The Device the tensor is on:{ some_tensor.device}')"
      ],
      "metadata": {
        "colab": {
          "base_uri": "https://localhost:8080/"
        },
        "id": "qADehQTI-1Ms",
        "outputId": "e3a8ac61-09ee-4197-a958-425fb2e02fe9"
      },
      "execution_count": 3,
      "outputs": [
        {
          "output_type": "stream",
          "name": "stdout",
          "text": [
            "tensor([[0.8654, 0.0491, 0.2346, 0.0226],\n",
            "        [0.2491, 0.1469, 0.1760, 0.1718],\n",
            "        [0.6031, 0.2690, 0.9398, 0.4696]])\n",
            "Datatype of tensor:torch.float32\n",
            "Shape of tensor:torch.Size([3, 4])\n",
            "The Device the tensor is on:cpu\n"
          ]
        }
      ]
    },
    {
      "cell_type": "code",
      "source": [
        "#Manipulating Tensors (Tensor operations)\n",
        "tensor = torch.tensor([1,2,3])\n",
        "tensor + 10"
      ],
      "metadata": {
        "colab": {
          "base_uri": "https://localhost:8080/"
        },
        "id": "u9fDf0mkAIi0",
        "outputId": "e0f5915e-3e4b-4a19-e8c5-070bc2504ad4"
      },
      "execution_count": 4,
      "outputs": [
        {
          "output_type": "execute_result",
          "data": {
            "text/plain": [
              "tensor([11, 12, 13])"
            ]
          },
          "metadata": {},
          "execution_count": 4
        }
      ]
    },
    {
      "cell_type": "markdown",
      "source": [],
      "metadata": {
        "id": "fDUcjMvc-O7i"
      }
    },
    {
      "cell_type": "code",
      "source": [
        "tensor *10"
      ],
      "metadata": {
        "colab": {
          "base_uri": "https://localhost:8080/"
        },
        "id": "FStj1sHmBMXo",
        "outputId": "62e4cd32-84b5-4c77-cfd0-75218e50998e"
      },
      "execution_count": 5,
      "outputs": [
        {
          "output_type": "execute_result",
          "data": {
            "text/plain": [
              "tensor([10, 20, 30])"
            ]
          },
          "metadata": {},
          "execution_count": 5
        }
      ]
    },
    {
      "cell_type": "code",
      "source": [
        "tensor -10"
      ],
      "metadata": {
        "id": "6o7aUWobBnoK",
        "colab": {
          "base_uri": "https://localhost:8080/"
        },
        "outputId": "dd4fc08c-0ed8-49e1-ad15-f3190470b957"
      },
      "execution_count": 6,
      "outputs": [
        {
          "output_type": "execute_result",
          "data": {
            "text/plain": [
              "tensor([-9, -8, -7])"
            ]
          },
          "metadata": {},
          "execution_count": 6
        }
      ]
    },
    {
      "cell_type": "code",
      "source": [
        "## matrix matiplication\n",
        "%%time\n",
        "torch.matmul(tensor,tensor)"
      ],
      "metadata": {
        "colab": {
          "base_uri": "https://localhost:8080/"
        },
        "id": "IvSP992tBqUo",
        "outputId": "23280ed9-8a42-43fb-8056-6b18c34189fa"
      },
      "execution_count": 7,
      "outputs": [
        {
          "output_type": "stream",
          "name": "stdout",
          "text": [
            "CPU times: user 2.72 ms, sys: 175 µs, total: 2.9 ms\n",
            "Wall time: 7.7 ms\n"
          ]
        },
        {
          "output_type": "execute_result",
          "data": {
            "text/plain": [
              "tensor(14)"
            ]
          },
          "metadata": {},
          "execution_count": 7
        }
      ]
    },
    {
      "cell_type": "code",
      "source": [
        "#matrix multiplication by hand\n",
        "1*1+2*2+3*3"
      ],
      "metadata": {
        "colab": {
          "base_uri": "https://localhost:8080/"
        },
        "id": "Rsrqf05YDg_Q",
        "outputId": "df8cecf2-34f8-4bf7-e0a2-2257f21e649d"
      },
      "execution_count": 8,
      "outputs": [
        {
          "output_type": "execute_result",
          "data": {
            "text/plain": [
              "14"
            ]
          },
          "metadata": {},
          "execution_count": 8
        }
      ]
    },
    {
      "cell_type": "code",
      "source": [
        "tensor_A =torch.tensor([[1,2],\n",
        "                        [3,4],\n",
        "                        [5,6]])\n",
        "\n",
        "tensor_B =torch.tensor([[7,10],\n",
        "                        [8,11],\n",
        "                        [9,12]])\n",
        "#torch.mm(tensor_A, tensor_B) \n",
        "# torch.mm is the equivalent of matmul, i.e matrix multiplication\n",
        "# Also the multiplication of tensor of the same shape wont work, so you get the transpose of one the tensors"
      ],
      "metadata": {
        "id": "XKsfCF6norsW"
      },
      "execution_count": 9,
      "outputs": []
    },
    {
      "cell_type": "code",
      "source": [
        "tensor_B, tensor_B.shape"
      ],
      "metadata": {
        "colab": {
          "base_uri": "https://localhost:8080/"
        },
        "id": "jAzQ42G7rghX",
        "outputId": "32402ac4-1315-4bf2-8656-9f9432d424f8"
      },
      "execution_count": 10,
      "outputs": [
        {
          "output_type": "execute_result",
          "data": {
            "text/plain": [
              "(tensor([[ 7, 10],\n",
              "         [ 8, 11],\n",
              "         [ 9, 12]]), torch.Size([3, 2]))"
            ]
          },
          "metadata": {},
          "execution_count": 10
        }
      ]
    },
    {
      "cell_type": "code",
      "source": [
        "tensor_B.T, tensor_B.T.shape"
      ],
      "metadata": {
        "colab": {
          "base_uri": "https://localhost:8080/"
        },
        "id": "BKfeYdHprqUk",
        "outputId": "71625491-5aa0-4e95-ba22-435a49001bb4"
      },
      "execution_count": 11,
      "outputs": [
        {
          "output_type": "execute_result",
          "data": {
            "text/plain": [
              "(tensor([[ 7,  8,  9],\n",
              "         [10, 11, 12]]), torch.Size([2, 3]))"
            ]
          },
          "metadata": {},
          "execution_count": 11
        }
      ]
    },
    {
      "cell_type": "code",
      "source": [
        "torch.mm(tensor_A,tensor_B.T)"
      ],
      "metadata": {
        "colab": {
          "base_uri": "https://localhost:8080/"
        },
        "id": "dHvK4g31uAHm",
        "outputId": "ec835d15-efac-4e86-99b9-d7bab8ad818e"
      },
      "execution_count": 12,
      "outputs": [
        {
          "output_type": "execute_result",
          "data": {
            "text/plain": [
              "tensor([[ 27,  30,  33],\n",
              "        [ 61,  68,  75],\n",
              "        [ 95, 106, 117]])"
            ]
          },
          "metadata": {},
          "execution_count": 12
        }
      ]
    },
    {
      "cell_type": "markdown",
      "source": [
        "**Finding the min, max,sum of tensor (tensor aggregation)**"
      ],
      "metadata": {
        "id": "gvbsHNE7uSnF"
      }
    },
    {
      "cell_type": "markdown",
      "source": [
        "create a tensor"
      ],
      "metadata": {
        "id": "i-49IUy0vPvY"
      }
    },
    {
      "cell_type": "code",
      "source": [
        "x =torch.arange(0,100,10)\n",
        "x"
      ],
      "metadata": {
        "colab": {
          "base_uri": "https://localhost:8080/"
        },
        "id": "ArnrkocMuvw_",
        "outputId": "f90dd71d-3990-4944-ab6c-8a1e494aa1dd"
      },
      "execution_count": 13,
      "outputs": [
        {
          "output_type": "execute_result",
          "data": {
            "text/plain": [
              "tensor([ 0, 10, 20, 30, 40, 50, 60, 70, 80, 90])"
            ]
          },
          "metadata": {},
          "execution_count": 13
        }
      ]
    },
    {
      "cell_type": "markdown",
      "source": [
        "find the min"
      ],
      "metadata": {
        "id": "j1t-bxmyvNaf"
      }
    },
    {
      "cell_type": "code",
      "source": [
        "torch.min(x),x.min()"
      ],
      "metadata": {
        "colab": {
          "base_uri": "https://localhost:8080/"
        },
        "id": "JyV6oE4gvFJu",
        "outputId": "9634b437-b641-4db7-f3a7-9d5b56a6aec9"
      },
      "execution_count": 14,
      "outputs": [
        {
          "output_type": "execute_result",
          "data": {
            "text/plain": [
              "(tensor(0), tensor(0))"
            ]
          },
          "metadata": {},
          "execution_count": 14
        }
      ]
    },
    {
      "cell_type": "markdown",
      "source": [
        "find the max"
      ],
      "metadata": {
        "id": "87tBnJSsv3-o"
      }
    },
    {
      "cell_type": "code",
      "source": [
        "torch.max(x), x.max()"
      ],
      "metadata": {
        "colab": {
          "base_uri": "https://localhost:8080/"
        },
        "id": "5-PchXV5v2i8",
        "outputId": "f26a6ba0-20cf-42b6-8901-1dfb2f851c11"
      },
      "execution_count": 15,
      "outputs": [
        {
          "output_type": "execute_result",
          "data": {
            "text/plain": [
              "(tensor(90), tensor(90))"
            ]
          },
          "metadata": {},
          "execution_count": 15
        }
      ]
    },
    {
      "cell_type": "markdown",
      "source": [
        "find the mean"
      ],
      "metadata": {
        "id": "B-y9ZGTQwxcj"
      }
    },
    {
      "cell_type": "code",
      "source": [
        "torch.mean(x)"
      ],
      "metadata": {
        "colab": {
          "base_uri": "https://localhost:8080/",
          "height": 165
        },
        "id": "Ow0GOWP7w2p-",
        "outputId": "a8253453-be54-4e4b-d1c8-285b0aa7d0f7"
      },
      "execution_count": 16,
      "outputs": [
        {
          "output_type": "error",
          "ename": "RuntimeError",
          "evalue": "ignored",
          "traceback": [
            "\u001b[0;31m---------------------------------------------------------------------------\u001b[0m",
            "\u001b[0;31mRuntimeError\u001b[0m                              Traceback (most recent call last)",
            "\u001b[0;32m<ipython-input-16-455868396db1>\u001b[0m in \u001b[0;36m<module>\u001b[0;34m\u001b[0m\n\u001b[0;32m----> 1\u001b[0;31m \u001b[0mtorch\u001b[0m\u001b[0;34m.\u001b[0m\u001b[0mmean\u001b[0m\u001b[0;34m(\u001b[0m\u001b[0mx\u001b[0m\u001b[0;34m)\u001b[0m\u001b[0;34m\u001b[0m\u001b[0;34m\u001b[0m\u001b[0m\n\u001b[0m",
            "\u001b[0;31mRuntimeError\u001b[0m: mean(): could not infer output dtype. Input dtype must be either a floating point or complex dtype. Got: Long"
          ]
        }
      ]
    },
    {
      "cell_type": "code",
      "source": [
        "#The datatype when finding the mean should always be floating point or cmplex dtype\n",
        "torch.mean(x.type(torch.float32)), x.type(torch.float32).mean()"
      ],
      "metadata": {
        "colab": {
          "base_uri": "https://localhost:8080/"
        },
        "id": "Ee7Gj7p6w_K1",
        "outputId": "6f231e55-b67c-416c-fd05-93406366c6ce"
      },
      "execution_count": 17,
      "outputs": [
        {
          "output_type": "execute_result",
          "data": {
            "text/plain": [
              "(tensor(45.), tensor(45.))"
            ]
          },
          "metadata": {},
          "execution_count": 17
        }
      ]
    },
    {
      "cell_type": "markdown",
      "source": [
        "Find the sum"
      ],
      "metadata": {
        "id": "UCcb1xlByKbV"
      }
    },
    {
      "cell_type": "code",
      "source": [
        "torch.sum(x), x.sum()"
      ],
      "metadata": {
        "colab": {
          "base_uri": "https://localhost:8080/"
        },
        "id": "1KuTf4vzyMrJ",
        "outputId": "df561f72-8be4-4707-f925-1d58ba81b1cf"
      },
      "execution_count": 18,
      "outputs": [
        {
          "output_type": "execute_result",
          "data": {
            "text/plain": [
              "(tensor(450), tensor(450))"
            ]
          },
          "metadata": {},
          "execution_count": 18
        }
      ]
    },
    {
      "cell_type": "markdown",
      "source": [
        "**Finding the positional max and mix value with argmax and argmin**"
      ],
      "metadata": {
        "id": "GBj0bT3gznN3"
      }
    },
    {
      "cell_type": "code",
      "source": [
        "torch.argmax(x)"
      ],
      "metadata": {
        "id": "xRKO-EGwz9q4"
      },
      "execution_count": null,
      "outputs": []
    },
    {
      "cell_type": "code",
      "source": [
        "torch.argmin(x)"
      ],
      "metadata": {
        "id": "GlWn5jnO0Io5"
      },
      "execution_count": null,
      "outputs": []
    },
    {
      "cell_type": "code",
      "source": [
        "# Using the positional max and min value as the matrix index\n",
        "x[torch.argmax(x)], x[torch.argmin(x)]"
      ],
      "metadata": {
        "id": "iUvCqL4-0ML7"
      },
      "execution_count": null,
      "outputs": []
    },
    {
      "cell_type": "markdown",
      "source": [
        "**Reshaping, stacking, squeezing and unsqueezing**"
      ],
      "metadata": {
        "id": "ncETplhv1lfs"
      }
    },
    {
      "cell_type": "markdown",
      "source": [
        "* Reshaping - reshapes an input tensor to a defined shape\n",
        "* view - return a view of an input tensor of certain shape but keep the same memory as the original tensor\n",
        "*stacking -combine multiple tensors on top of each other(vstack) or side by side(hstack)\n",
        "*squeeze -removes all '1' dimensions from a tensor\n",
        "*unsqeeze - add a '1' dimension to a target tensor\n",
        "*permute - return a view of the input with dimensions permutted(swapped) in a certain way"
      ],
      "metadata": {
        "id": "SWSnruoI5PaY"
      }
    },
    {
      "cell_type": "code",
      "source": [
        "a = torch.arange(1.0,10.0)\n",
        "a, a.shape"
      ],
      "metadata": {
        "colab": {
          "base_uri": "https://localhost:8080/"
        },
        "id": "unl0zfFO0m99",
        "outputId": "83abcadc-63ed-4a43-c41a-260224426a0c"
      },
      "execution_count": 19,
      "outputs": [
        {
          "output_type": "execute_result",
          "data": {
            "text/plain": [
              "(tensor([1., 2., 3., 4., 5., 6., 7., 8., 9.]), torch.Size([9]))"
            ]
          },
          "metadata": {},
          "execution_count": 19
        }
      ]
    },
    {
      "cell_type": "code",
      "source": [
        "#Add an extra dimension\n",
        "a_reshaped = a.reshape(1,9)\n",
        "a_reshaped,  a_reshaped.shape\n",
        "#Note the reshape has to be compatible with the original size"
      ],
      "metadata": {
        "colab": {
          "base_uri": "https://localhost:8080/"
        },
        "id": "jN_E24OX6rqv",
        "outputId": "b4033168-b6d4-4676-af51-e63c4b86a0cf"
      },
      "execution_count": 20,
      "outputs": [
        {
          "output_type": "execute_result",
          "data": {
            "text/plain": [
              "(tensor([[1., 2., 3., 4., 5., 6., 7., 8., 9.]]), torch.Size([1, 9]))"
            ]
          },
          "metadata": {},
          "execution_count": 20
        }
      ]
    },
    {
      "cell_type": "code",
      "source": [
        "#change the view\n",
        "z=a.view(1,9)\n",
        "z, z.shape\n"
      ],
      "metadata": {
        "colab": {
          "base_uri": "https://localhost:8080/"
        },
        "id": "ywOlolfL6-mN",
        "outputId": "0dafb323-2464-4174-aa77-8c281271c39a"
      },
      "execution_count": 21,
      "outputs": [
        {
          "output_type": "execute_result",
          "data": {
            "text/plain": [
              "(tensor([[1., 2., 3., 4., 5., 6., 7., 8., 9.]]), torch.Size([1, 9]))"
            ]
          },
          "metadata": {},
          "execution_count": 21
        }
      ]
    },
    {
      "cell_type": "code",
      "source": [
        "#changing z changes a because z shares the memory as a(the original input)\n",
        "z[:, 0] = 5\n",
        "z,a"
      ],
      "metadata": {
        "colab": {
          "base_uri": "https://localhost:8080/"
        },
        "id": "-sGbDBox769Z",
        "outputId": "fc1670be-59ce-407e-b922-0860a3cb5f9f"
      },
      "execution_count": 22,
      "outputs": [
        {
          "output_type": "execute_result",
          "data": {
            "text/plain": [
              "(tensor([[5., 2., 3., 4., 5., 6., 7., 8., 9.]]),\n",
              " tensor([5., 2., 3., 4., 5., 6., 7., 8., 9.]))"
            ]
          },
          "metadata": {},
          "execution_count": 22
        }
      ]
    },
    {
      "cell_type": "code",
      "source": [
        "# stack tensors on top of each other\n",
        "a_stacked = torch.stack([a,a,a,a], dim = 0)\n",
        "a_stacked\n"
      ],
      "metadata": {
        "colab": {
          "base_uri": "https://localhost:8080/"
        },
        "id": "ZC7DN297768B",
        "outputId": "eb4bf473-f005-41c7-e620-b5efb3c5c438"
      },
      "execution_count": 23,
      "outputs": [
        {
          "output_type": "execute_result",
          "data": {
            "text/plain": [
              "tensor([[5., 2., 3., 4., 5., 6., 7., 8., 9.],\n",
              "        [5., 2., 3., 4., 5., 6., 7., 8., 9.],\n",
              "        [5., 2., 3., 4., 5., 6., 7., 8., 9.],\n",
              "        [5., 2., 3., 4., 5., 6., 7., 8., 9.]])"
            ]
          },
          "metadata": {},
          "execution_count": 23
        }
      ]
    },
    {
      "cell_type": "code",
      "source": [
        "a_stacked = torch.stack([a,a], dim = 1)\n",
        "a_stacked"
      ],
      "metadata": {
        "colab": {
          "base_uri": "https://localhost:8080/"
        },
        "id": "vrf9eckz766w",
        "outputId": "db584e51-1c60-4596-c4c1-4cac0711763d"
      },
      "execution_count": 24,
      "outputs": [
        {
          "output_type": "execute_result",
          "data": {
            "text/plain": [
              "tensor([[5., 5.],\n",
              "        [2., 2.],\n",
              "        [3., 3.],\n",
              "        [4., 4.],\n",
              "        [5., 5.],\n",
              "        [6., 6.],\n",
              "        [7., 7.],\n",
              "        [8., 8.],\n",
              "        [9., 9.]])"
            ]
          },
          "metadata": {},
          "execution_count": 24
        }
      ]
    },
    {
      "cell_type": "code",
      "source": [
        "#removes all 1 dimension in a tensor\n",
        "b = a_reshaped.squeeze()\n",
        "b, b.shape"
      ],
      "metadata": {
        "id": "g1q6ArOF765M",
        "colab": {
          "base_uri": "https://localhost:8080/"
        },
        "outputId": "49ef5759-a87c-4e1a-b980-7ad9908d7afa"
      },
      "execution_count": 26,
      "outputs": [
        {
          "output_type": "execute_result",
          "data": {
            "text/plain": [
              "(tensor([5., 2., 3., 4., 5., 6., 7., 8., 9.]), torch.Size([9]))"
            ]
          },
          "metadata": {},
          "execution_count": 26
        }
      ]
    },
    {
      "cell_type": "code",
      "source": [
        "#torch.unsqueeze() - adds an extra dimension to a target tensor at a specific dim\n",
        "print(f\"The squeezed tensor is {b} with a shape of {b.shape}\")\n",
        "# adding a 1 dimension to the zero index\n",
        "b_unsqueeze =b.unsqueeze(dim =0)\n",
        "print(f'The unsqueesed tensor {b_unsqueeze} has a shape of {b_unsqueeze.shape} ')"
      ],
      "metadata": {
        "id": "Nl66G4xm763P",
        "colab": {
          "base_uri": "https://localhost:8080/"
        },
        "outputId": "bdcee2f1-cfd3-4784-fe49-5a3f1522e47d"
      },
      "execution_count": 28,
      "outputs": [
        {
          "output_type": "stream",
          "name": "stdout",
          "text": [
            "The squeezed tensor is tensor([5., 2., 3., 4., 5., 6., 7., 8., 9.]) with a shape of torch.Size([9])\n",
            "The unsqueesed tensor tensor([[5., 2., 3., 4., 5., 6., 7., 8., 9.]]) has a shape of torch.Size([1, 9]) \n"
          ]
        }
      ]
    },
    {
      "cell_type": "code",
      "source": [
        "#torch.permute - rearranges the dimension of a target tensor in a specificied order\n",
        "\n",
        "x = torch.randn([3,5,8])\n",
        "x.shape\n",
        "x1= torch.permute(x,(2,0,1))\n",
        "x1.shape"
      ],
      "metadata": {
        "id": "2v1lK_CI76Vp",
        "colab": {
          "base_uri": "https://localhost:8080/"
        },
        "outputId": "d8af5854-e1e4-4043-d4fc-1376f98e9063"
      },
      "execution_count": 34,
      "outputs": [
        {
          "output_type": "execute_result",
          "data": {
            "text/plain": [
              "torch.Size([8, 3, 5])"
            ]
          },
          "metadata": {},
          "execution_count": 34
        }
      ]
    },
    {
      "cell_type": "markdown",
      "source": [
        "**Indexing (selecting data fom tensors)**"
      ],
      "metadata": {
        "id": "byw1unWpeBFw"
      }
    },
    {
      "cell_type": "code",
      "source": [
        "# STEP 1 : Create a Tensor\n",
        "import torch\n",
        "x = torch.arange(1,10).reshape(1,3,3)\n",
        "x, x.shape"
      ],
      "metadata": {
        "id": "CAZ7egsr76QQ",
        "colab": {
          "base_uri": "https://localhost:8080/"
        },
        "outputId": "34f493c3-bc64-4516-ee63-ff1717d74ac3"
      },
      "execution_count": 35,
      "outputs": [
        {
          "output_type": "execute_result",
          "data": {
            "text/plain": [
              "(tensor([[[1, 2, 3],\n",
              "          [4, 5, 6],\n",
              "          [7, 8, 9]]]), torch.Size([1, 3, 3]))"
            ]
          },
          "metadata": {},
          "execution_count": 35
        }
      ]
    },
    {
      "cell_type": "code",
      "source": [
        "x[0]"
      ],
      "metadata": {
        "id": "PvNiqhAz76N-",
        "colab": {
          "base_uri": "https://localhost:8080/"
        },
        "outputId": "8f719146-5ab6-43e1-db87-dc862f33d91b"
      },
      "execution_count": 36,
      "outputs": [
        {
          "output_type": "execute_result",
          "data": {
            "text/plain": [
              "tensor([[1, 2, 3],\n",
              "        [4, 5, 6],\n",
              "        [7, 8, 9]])"
            ]
          },
          "metadata": {},
          "execution_count": 36
        }
      ]
    },
    {
      "cell_type": "code",
      "source": [
        "x[0,0]"
      ],
      "metadata": {
        "id": "yDyPBDRh76Mj",
        "colab": {
          "base_uri": "https://localhost:8080/"
        },
        "outputId": "99b9a57f-52ef-4e39-889a-d61198e0ae1b"
      },
      "execution_count": 37,
      "outputs": [
        {
          "output_type": "execute_result",
          "data": {
            "text/plain": [
              "tensor([1, 2, 3])"
            ]
          },
          "metadata": {},
          "execution_count": 37
        }
      ]
    },
    {
      "cell_type": "code",
      "source": [
        "x[0,1,1]"
      ],
      "metadata": {
        "id": "rqGjwktJ76Kv",
        "colab": {
          "base_uri": "https://localhost:8080/"
        },
        "outputId": "2c585019-800c-4f9f-a839-48e59a5a30d5"
      },
      "execution_count": 38,
      "outputs": [
        {
          "output_type": "execute_result",
          "data": {
            "text/plain": [
              "tensor(5)"
            ]
          },
          "metadata": {},
          "execution_count": 38
        }
      ]
    },
    {
      "cell_type": "code",
      "source": [
        "x[0,2,2]"
      ],
      "metadata": {
        "id": "T0XUrRM176DP",
        "colab": {
          "base_uri": "https://localhost:8080/"
        },
        "outputId": "5d1d2a6c-170f-4949-c103-a2fcffd1fb74"
      },
      "execution_count": 39,
      "outputs": [
        {
          "output_type": "execute_result",
          "data": {
            "text/plain": [
              "tensor(9)"
            ]
          },
          "metadata": {},
          "execution_count": 39
        }
      ]
    },
    {
      "cell_type": "code",
      "source": [
        "#you can use : to select all the dimension of a target tensor\n",
        "x[:,0]"
      ],
      "metadata": {
        "id": "CcLCLseA76B2",
        "colab": {
          "base_uri": "https://localhost:8080/"
        },
        "outputId": "f4328d60-2d29-4977-ea25-6b782c794269"
      },
      "execution_count": 40,
      "outputs": [
        {
          "output_type": "execute_result",
          "data": {
            "text/plain": [
              "tensor([[1, 2, 3]])"
            ]
          },
          "metadata": {},
          "execution_count": 40
        }
      ]
    },
    {
      "cell_type": "code",
      "source": [
        "# Get all the values of 0th and 1st dimension but only index one of the 1 dimension\n",
        "x[:,: ,1]"
      ],
      "metadata": {
        "id": "LnJZ7HyS758f",
        "colab": {
          "base_uri": "https://localhost:8080/"
        },
        "outputId": "fa64069b-134c-4273-e70d-36d213f3999e"
      },
      "execution_count": 45,
      "outputs": [
        {
          "output_type": "execute_result",
          "data": {
            "text/plain": [
              "tensor([2, 5, 8])"
            ]
          },
          "metadata": {},
          "execution_count": 45
        }
      ]
    },
    {
      "cell_type": "markdown",
      "source": [
        "**Pytorch tensors & Numpy** :\n",
        "Numpy is a popular scientific python numerical computing library and because of this,Pytorch has functionality to interact with it.\n",
        "* To convert data in Numpy to pyTorch tensor -> torch.from_numpy(ndarray)\n",
        "* To convert pytorch tensor to numpy -> torch.Tensor.numpy()"
      ],
      "metadata": {
        "id": "FYbvBGuwmcn2"
      }
    },
    {
      "cell_type": "code",
      "source": [
        "import torch\n",
        "import numpy as np"
      ],
      "metadata": {
        "id": "4K7Ob-r3756v"
      },
      "execution_count": 46,
      "outputs": []
    },
    {
      "cell_type": "code",
      "source": [
        "array =np.arange(1.0, 8.0)\n",
        "tensor = torch.from_numpy(array)\n",
        "array, tensor"
      ],
      "metadata": {
        "id": "Vn2V4GVB753x",
        "colab": {
          "base_uri": "https://localhost:8080/"
        },
        "outputId": "d6235669-9e1c-4817-98bc-eb7b0fcdf294"
      },
      "execution_count": 47,
      "outputs": [
        {
          "output_type": "execute_result",
          "data": {
            "text/plain": [
              "(array([1., 2., 3., 4., 5., 6., 7.]),\n",
              " tensor([1., 2., 3., 4., 5., 6., 7.], dtype=torch.float64))"
            ]
          },
          "metadata": {},
          "execution_count": 47
        }
      ]
    },
    {
      "cell_type": "code",
      "source": [],
      "metadata": {
        "id": "4fJquTxq752t"
      },
      "execution_count": null,
      "outputs": []
    },
    {
      "cell_type": "code",
      "source": [],
      "metadata": {
        "id": "stcP8R-l75y5"
      },
      "execution_count": null,
      "outputs": []
    },
    {
      "cell_type": "code",
      "source": [],
      "metadata": {
        "id": "CEZSDBwV75t4"
      },
      "execution_count": null,
      "outputs": []
    },
    {
      "cell_type": "code",
      "source": [],
      "metadata": {
        "id": "k33692_L75qX"
      },
      "execution_count": null,
      "outputs": []
    },
    {
      "cell_type": "code",
      "source": [],
      "metadata": {
        "id": "ppC1MN7S75nn"
      },
      "execution_count": null,
      "outputs": []
    },
    {
      "cell_type": "code",
      "source": [],
      "metadata": {
        "id": "QALytzGz75JB"
      },
      "execution_count": null,
      "outputs": []
    },
    {
      "cell_type": "code",
      "source": [],
      "metadata": {
        "id": "ipDZ77sq7477"
      },
      "execution_count": null,
      "outputs": []
    },
    {
      "cell_type": "code",
      "source": [],
      "metadata": {
        "id": "oxEfh8Nl745n"
      },
      "execution_count": null,
      "outputs": []
    },
    {
      "cell_type": "code",
      "source": [],
      "metadata": {
        "id": "JWcDNjtq74t-"
      },
      "execution_count": null,
      "outputs": []
    },
    {
      "cell_type": "code",
      "source": [],
      "metadata": {
        "id": "qg2P2Eu874pK"
      },
      "execution_count": null,
      "outputs": []
    },
    {
      "cell_type": "code",
      "source": [],
      "metadata": {
        "id": "Ny3J0pWP74gn"
      },
      "execution_count": null,
      "outputs": []
    },
    {
      "cell_type": "code",
      "source": [],
      "metadata": {
        "id": "kWlBxNJd73_5"
      },
      "execution_count": null,
      "outputs": []
    }
  ]
}