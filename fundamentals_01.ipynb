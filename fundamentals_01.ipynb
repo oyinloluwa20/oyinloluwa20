{
  "nbformat": 4,
  "nbformat_minor": 0,
  "metadata": {
    "colab": {
      "provenance": [],
      "collapsed_sections": [],
      "authorship_tag": "ABX9TyPxx0b2AyygMdUCpxIfeezi",
      "include_colab_link": true
    },
    "kernelspec": {
      "name": "python3",
      "display_name": "Python 3"
    },
    "language_info": {
      "name": "python"
    }
  },
  "cells": [
    {
      "cell_type": "markdown",
      "metadata": {
        "id": "view-in-github",
        "colab_type": "text"
      },
      "source": [
        "<a href=\"https://colab.research.google.com/github/oyinloluwa20/oyinloluwa20/blob/deep-learning-01/fundamentals_01.ipynb\" target=\"_parent\"><img src=\"https://colab.research.google.com/assets/colab-badge.svg\" alt=\"Open In Colab\"/></a>"
      ]
    },
    {
      "cell_type": "code",
      "source": [
        "import torch"
      ],
      "metadata": {
        "id": "9W0YBmDN-pZ5"
      },
      "execution_count": 1,
      "outputs": []
    },
    {
      "cell_type": "code",
      "execution_count": null,
      "metadata": {
        "colab": {
          "base_uri": "https://localhost:8080/"
        },
        "id": "QcUTK1hf8sMr",
        "outputId": "a082ab0e-c444-48e6-b822-eccdba3c85c4"
      },
      "outputs": [
        {
          "output_type": "execute_result",
          "data": {
            "text/plain": [
              "tensor([[0.3255, 0.3945, 0.4946, 0.1608],\n",
              "        [0.7537, 0.3713, 0.1944, 0.8483],\n",
              "        [0.4951, 0.6458, 0.8319, 0.5790]])"
            ]
          },
          "metadata": {},
          "execution_count": 3
        }
      ],
      "source": [
        "#Create a tensor\n",
        "some_tensor = torch.rand(3,4)\n",
        "some_tensor"
      ]
    },
    {
      "cell_type": "code",
      "source": [
        "#Find out details about a tensor\n",
        "print(some_tensor)\n",
        "print(f'Datatype of tensor:{ some_tensor.dtype}')\n",
        "print(f'Shape of tensor:{ some_tensor.shape}')\n",
        "print(f'The Device the tensor is on:{ some_tensor.device}')"
      ],
      "metadata": {
        "colab": {
          "base_uri": "https://localhost:8080/"
        },
        "id": "qADehQTI-1Ms",
        "outputId": "10c65d4a-4d01-4b1d-b750-87c20dc9dded"
      },
      "execution_count": null,
      "outputs": [
        {
          "output_type": "stream",
          "name": "stdout",
          "text": [
            "tensor([[0.3255, 0.3945, 0.4946, 0.1608],\n",
            "        [0.7537, 0.3713, 0.1944, 0.8483],\n",
            "        [0.4951, 0.6458, 0.8319, 0.5790]])\n",
            "Datatype of tensor:torch.float32\n",
            "Shape of tensor:torch.Size([3, 4])\n",
            "The Device the tensor is on:cpu\n"
          ]
        }
      ]
    },
    {
      "cell_type": "code",
      "source": [
        "#Manipulating Tensors (Tensor operations)\n",
        "tensor = torch.tensor([1,2,3])\n",
        "tensor + 10"
      ],
      "metadata": {
        "colab": {
          "base_uri": "https://localhost:8080/"
        },
        "id": "u9fDf0mkAIi0",
        "outputId": "f6cd8883-97c7-47d6-9560-ddda392d193d"
      },
      "execution_count": null,
      "outputs": [
        {
          "output_type": "execute_result",
          "data": {
            "text/plain": [
              "tensor([11, 12, 13])"
            ]
          },
          "metadata": {},
          "execution_count": 5
        }
      ]
    },
    {
      "cell_type": "markdown",
      "source": [],
      "metadata": {
        "id": "fDUcjMvc-O7i"
      }
    },
    {
      "cell_type": "code",
      "source": [
        "tensor *10"
      ],
      "metadata": {
        "colab": {
          "base_uri": "https://localhost:8080/"
        },
        "id": "FStj1sHmBMXo",
        "outputId": "c2d8737d-8bba-4bae-d41c-d97e9dba988d"
      },
      "execution_count": null,
      "outputs": [
        {
          "output_type": "execute_result",
          "data": {
            "text/plain": [
              "tensor([10, 20, 30])"
            ]
          },
          "metadata": {},
          "execution_count": 6
        }
      ]
    },
    {
      "cell_type": "code",
      "source": [
        "tensor -10"
      ],
      "metadata": {
        "id": "6o7aUWobBnoK"
      },
      "execution_count": null,
      "outputs": []
    },
    {
      "cell_type": "code",
      "source": [
        "## matrix matiplication\n",
        "%%time\n",
        "torch.matmul(tensor,tensor)"
      ],
      "metadata": {
        "colab": {
          "base_uri": "https://localhost:8080/"
        },
        "id": "IvSP992tBqUo",
        "outputId": "efeb3ea3-21c9-4987-ccdd-20666410cd15"
      },
      "execution_count": null,
      "outputs": [
        {
          "output_type": "execute_result",
          "data": {
            "text/plain": [
              "tensor(14)"
            ]
          },
          "metadata": {},
          "execution_count": 7
        }
      ]
    },
    {
      "cell_type": "code",
      "source": [
        "#matrix multiplication by hand\n",
        "1*1+2*2+3*3"
      ],
      "metadata": {
        "colab": {
          "base_uri": "https://localhost:8080/"
        },
        "id": "Rsrqf05YDg_Q",
        "outputId": "fb163120-d05a-4d60-e6d7-49d76501f727"
      },
      "execution_count": null,
      "outputs": [
        {
          "output_type": "execute_result",
          "data": {
            "text/plain": [
              "14"
            ]
          },
          "metadata": {},
          "execution_count": 8
        }
      ]
    },
    {
      "cell_type": "code",
      "source": [
        "tensor_A =torch.tensor([[1,2],\n",
        "                        [3,4],\n",
        "                        [5,6]])\n",
        "\n",
        "tensor_B =torch.tensor([[7,10],\n",
        "                        [8,11],\n",
        "                        [9,12]])\n",
        "#torch.mm(tensor_A, tensor_B) \n",
        "# torch.mm is the equivalent of matmul, i.e matrix multiplication\n",
        "# Also the multiplication of tensor of the same shape wont work, so you get the transpose of one the tensors"
      ],
      "metadata": {
        "id": "XKsfCF6norsW"
      },
      "execution_count": 2,
      "outputs": []
    },
    {
      "cell_type": "code",
      "source": [
        "tensor_B, tensor_B.shape"
      ],
      "metadata": {
        "colab": {
          "base_uri": "https://localhost:8080/"
        },
        "id": "jAzQ42G7rghX",
        "outputId": "ab284626-155d-447c-d9d7-e7b03eae8cb0"
      },
      "execution_count": 3,
      "outputs": [
        {
          "output_type": "execute_result",
          "data": {
            "text/plain": [
              "(tensor([[ 7, 10],\n",
              "         [ 8, 11],\n",
              "         [ 9, 12]]), torch.Size([3, 2]))"
            ]
          },
          "metadata": {},
          "execution_count": 3
        }
      ]
    },
    {
      "cell_type": "code",
      "source": [
        "tensor_B.T, tensor_B.T.shape"
      ],
      "metadata": {
        "colab": {
          "base_uri": "https://localhost:8080/"
        },
        "id": "BKfeYdHprqUk",
        "outputId": "9aab0ab4-cc76-4d10-9330-66d862301250"
      },
      "execution_count": 4,
      "outputs": [
        {
          "output_type": "execute_result",
          "data": {
            "text/plain": [
              "(tensor([[ 7,  8,  9],\n",
              "         [10, 11, 12]]), torch.Size([2, 3]))"
            ]
          },
          "metadata": {},
          "execution_count": 4
        }
      ]
    },
    {
      "cell_type": "code",
      "source": [
        "torch.mm(tensor_A,tensor_B.T)"
      ],
      "metadata": {
        "colab": {
          "base_uri": "https://localhost:8080/"
        },
        "id": "dHvK4g31uAHm",
        "outputId": "abde7f57-a6d9-4b11-df31-7034e1c69460"
      },
      "execution_count": 5,
      "outputs": [
        {
          "output_type": "execute_result",
          "data": {
            "text/plain": [
              "tensor([[ 27,  30,  33],\n",
              "        [ 61,  68,  75],\n",
              "        [ 95, 106, 117]])"
            ]
          },
          "metadata": {},
          "execution_count": 5
        }
      ]
    },
    {
      "cell_type": "markdown",
      "source": [
        "**Finding the min, max,sum of tensor (tensor aggregation)**"
      ],
      "metadata": {
        "id": "gvbsHNE7uSnF"
      }
    },
    {
      "cell_type": "markdown",
      "source": [
        "create a tensor"
      ],
      "metadata": {
        "id": "i-49IUy0vPvY"
      }
    },
    {
      "cell_type": "code",
      "source": [
        "x =torch.arange(0,100,10)\n",
        "x"
      ],
      "metadata": {
        "colab": {
          "base_uri": "https://localhost:8080/"
        },
        "id": "ArnrkocMuvw_",
        "outputId": "22bbfe0f-1f27-4f73-ff3b-abafe7e5809d"
      },
      "execution_count": 6,
      "outputs": [
        {
          "output_type": "execute_result",
          "data": {
            "text/plain": [
              "tensor([ 0, 10, 20, 30, 40, 50, 60, 70, 80, 90])"
            ]
          },
          "metadata": {},
          "execution_count": 6
        }
      ]
    },
    {
      "cell_type": "markdown",
      "source": [
        "find the min"
      ],
      "metadata": {
        "id": "j1t-bxmyvNaf"
      }
    },
    {
      "cell_type": "code",
      "source": [
        "torch.min(x),x.min()"
      ],
      "metadata": {
        "colab": {
          "base_uri": "https://localhost:8080/"
        },
        "id": "JyV6oE4gvFJu",
        "outputId": "48fdbfba-0714-4668-8e9c-2e7e118a213b"
      },
      "execution_count": 7,
      "outputs": [
        {
          "output_type": "execute_result",
          "data": {
            "text/plain": [
              "(tensor(0), tensor(0))"
            ]
          },
          "metadata": {},
          "execution_count": 7
        }
      ]
    },
    {
      "cell_type": "markdown",
      "source": [
        "find the max"
      ],
      "metadata": {
        "id": "87tBnJSsv3-o"
      }
    },
    {
      "cell_type": "code",
      "source": [
        "torch.max(x), x.max()"
      ],
      "metadata": {
        "colab": {
          "base_uri": "https://localhost:8080/"
        },
        "id": "5-PchXV5v2i8",
        "outputId": "44c55b2b-9249-4abc-92d0-e29b9704f2a7"
      },
      "execution_count": 8,
      "outputs": [
        {
          "output_type": "execute_result",
          "data": {
            "text/plain": [
              "(tensor(90), tensor(90))"
            ]
          },
          "metadata": {},
          "execution_count": 8
        }
      ]
    },
    {
      "cell_type": "markdown",
      "source": [
        "find the mean"
      ],
      "metadata": {
        "id": "B-y9ZGTQwxcj"
      }
    },
    {
      "cell_type": "code",
      "source": [
        "torch.mean(x)"
      ],
      "metadata": {
        "colab": {
          "base_uri": "https://localhost:8080/",
          "height": 183
        },
        "id": "Ow0GOWP7w2p-",
        "outputId": "d85d409f-7d9d-448f-eca6-961b500787bf"
      },
      "execution_count": 9,
      "outputs": [
        {
          "output_type": "error",
          "ename": "RuntimeError",
          "evalue": "ignored",
          "traceback": [
            "\u001b[0;31m---------------------------------------------------------------------------\u001b[0m",
            "\u001b[0;31mRuntimeError\u001b[0m                              Traceback (most recent call last)",
            "\u001b[0;32m<ipython-input-9-455868396db1>\u001b[0m in \u001b[0;36m<module>\u001b[0;34m\u001b[0m\n\u001b[0;32m----> 1\u001b[0;31m \u001b[0mtorch\u001b[0m\u001b[0;34m.\u001b[0m\u001b[0mmean\u001b[0m\u001b[0;34m(\u001b[0m\u001b[0mx\u001b[0m\u001b[0;34m)\u001b[0m\u001b[0;34m\u001b[0m\u001b[0;34m\u001b[0m\u001b[0m\n\u001b[0m",
            "\u001b[0;31mRuntimeError\u001b[0m: mean(): could not infer output dtype. Input dtype must be either a floating point or complex dtype. Got: Long"
          ]
        }
      ]
    },
    {
      "cell_type": "code",
      "source": [
        "#The datatype when finding the mean should always be floating point or cmplex dtype\n",
        "torch.mean(x.type(torch.float32)), x.type(torch.float32).mean()"
      ],
      "metadata": {
        "colab": {
          "base_uri": "https://localhost:8080/"
        },
        "id": "Ee7Gj7p6w_K1",
        "outputId": "b9678bef-6b50-4bec-8b70-c2df00424cff"
      },
      "execution_count": 10,
      "outputs": [
        {
          "output_type": "execute_result",
          "data": {
            "text/plain": [
              "(tensor(45.), tensor(45.))"
            ]
          },
          "metadata": {},
          "execution_count": 10
        }
      ]
    },
    {
      "cell_type": "markdown",
      "source": [
        "Find the sum"
      ],
      "metadata": {
        "id": "UCcb1xlByKbV"
      }
    },
    {
      "cell_type": "code",
      "source": [
        "torch.sum(x), x.sum()"
      ],
      "metadata": {
        "colab": {
          "base_uri": "https://localhost:8080/"
        },
        "id": "1KuTf4vzyMrJ",
        "outputId": "59063d76-5c6a-4f35-d5ef-2a4c3ad9c6ed"
      },
      "execution_count": 11,
      "outputs": [
        {
          "output_type": "execute_result",
          "data": {
            "text/plain": [
              "(tensor(450), tensor(450))"
            ]
          },
          "metadata": {},
          "execution_count": 11
        }
      ]
    },
    {
      "cell_type": "markdown",
      "source": [
        "**Finding the positional max and mix value with argmax and argmin**"
      ],
      "metadata": {
        "id": "GBj0bT3gznN3"
      }
    },
    {
      "cell_type": "code",
      "source": [
        "torch.argmax(x)"
      ],
      "metadata": {
        "colab": {
          "base_uri": "https://localhost:8080/"
        },
        "id": "xRKO-EGwz9q4",
        "outputId": "cd3e5537-c2e2-4083-8b6f-6112a994e5ca"
      },
      "execution_count": 12,
      "outputs": [
        {
          "output_type": "execute_result",
          "data": {
            "text/plain": [
              "tensor(9)"
            ]
          },
          "metadata": {},
          "execution_count": 12
        }
      ]
    },
    {
      "cell_type": "code",
      "source": [
        "torch.argmin(x)"
      ],
      "metadata": {
        "colab": {
          "base_uri": "https://localhost:8080/"
        },
        "id": "GlWn5jnO0Io5",
        "outputId": "158ed703-f3b8-4750-b836-8ba932a24c96"
      },
      "execution_count": 13,
      "outputs": [
        {
          "output_type": "execute_result",
          "data": {
            "text/plain": [
              "tensor(0)"
            ]
          },
          "metadata": {},
          "execution_count": 13
        }
      ]
    },
    {
      "cell_type": "code",
      "source": [
        "# Using the positional max and min value as the matrix index\n",
        "x[torch.argmax(x)], x[torch.argmin(x)]"
      ],
      "metadata": {
        "colab": {
          "base_uri": "https://localhost:8080/"
        },
        "id": "iUvCqL4-0ML7",
        "outputId": "fffa78ec-f607-4821-d098-3922a5e9d0b7"
      },
      "execution_count": 14,
      "outputs": [
        {
          "output_type": "execute_result",
          "data": {
            "text/plain": [
              "(tensor(90), tensor(0))"
            ]
          },
          "metadata": {},
          "execution_count": 14
        }
      ]
    },
    {
      "cell_type": "markdown",
      "source": [
        "**Reshaping, stacking, squeezing and unsqueezing**"
      ],
      "metadata": {
        "id": "ncETplhv1lfs"
      }
    },
    {
      "cell_type": "markdown",
      "source": [
        "* Reshaping - reshapes an input tensor to a defined shape\n",
        "* view - return a view of an input tensor of certain shape but keep the same memory as the original tensor\n",
        "*stacking -combine multiple tensors on top of each other(vstack) or side by side(hstack)\n",
        "*squeeze -removes all '1' dimensions from a tensor\n",
        "*unsqeeze - add a '1' dimension to a target tensor\n",
        "*permute - return a view of the input with dimensions permutted(swapped) in a certain way"
      ],
      "metadata": {
        "id": "SWSnruoI5PaY"
      }
    },
    {
      "cell_type": "code",
      "source": [
        "a = torch.arange(1.0,10.0)\n",
        "a, a.shape"
      ],
      "metadata": {
        "colab": {
          "base_uri": "https://localhost:8080/"
        },
        "id": "unl0zfFO0m99",
        "outputId": "462ff834-203f-4d25-a1a4-7d5569c89c39"
      },
      "execution_count": 27,
      "outputs": [
        {
          "output_type": "execute_result",
          "data": {
            "text/plain": [
              "(tensor([1., 2., 3., 4., 5., 6., 7., 8., 9.]), torch.Size([9]))"
            ]
          },
          "metadata": {},
          "execution_count": 27
        }
      ]
    },
    {
      "cell_type": "code",
      "source": [
        "#Add an extra dimension\n",
        "a_reshaped = a.reshape(1,9)\n",
        "a_reshaped,  a_reshaped.shape\n",
        "#Note the reshape has to be compatible with the original size"
      ],
      "metadata": {
        "colab": {
          "base_uri": "https://localhost:8080/"
        },
        "id": "jN_E24OX6rqv",
        "outputId": "a6149869-9936-4d9c-df72-20097eb0277b"
      },
      "execution_count": 28,
      "outputs": [
        {
          "output_type": "execute_result",
          "data": {
            "text/plain": [
              "(tensor([[1., 2., 3., 4., 5., 6., 7., 8., 9.]]), torch.Size([1, 9]))"
            ]
          },
          "metadata": {},
          "execution_count": 28
        }
      ]
    },
    {
      "cell_type": "code",
      "source": [
        "#change the view\n",
        "z=a.view(1,9)\n",
        "z, z.shape\n"
      ],
      "metadata": {
        "colab": {
          "base_uri": "https://localhost:8080/"
        },
        "id": "ywOlolfL6-mN",
        "outputId": "64fc2222-8141-41d2-9ca6-4c5a5aba5f2c"
      },
      "execution_count": 29,
      "outputs": [
        {
          "output_type": "execute_result",
          "data": {
            "text/plain": [
              "(tensor([[1., 2., 3., 4., 5., 6., 7., 8., 9.]]), torch.Size([1, 9]))"
            ]
          },
          "metadata": {},
          "execution_count": 29
        }
      ]
    },
    {
      "cell_type": "code",
      "source": [
        "#changing z changes a because z shares the memory as a(the original input)\n",
        "z[:, 0] = 5\n",
        "z,a"
      ],
      "metadata": {
        "colab": {
          "base_uri": "https://localhost:8080/"
        },
        "id": "-sGbDBox769Z",
        "outputId": "6a56d17f-564d-4655-aecf-9888210c91fa"
      },
      "execution_count": 30,
      "outputs": [
        {
          "output_type": "execute_result",
          "data": {
            "text/plain": [
              "(tensor([[5., 2., 3., 4., 5., 6., 7., 8., 9.]]),\n",
              " tensor([5., 2., 3., 4., 5., 6., 7., 8., 9.]))"
            ]
          },
          "metadata": {},
          "execution_count": 30
        }
      ]
    },
    {
      "cell_type": "code",
      "source": [
        "# stack tensors on top of each other\n",
        "a_stacked = torch.stack([a,a,a,a], dim = 0)\n",
        "a_stacked\n"
      ],
      "metadata": {
        "colab": {
          "base_uri": "https://localhost:8080/"
        },
        "id": "ZC7DN297768B",
        "outputId": "f1eb1e59-c926-4561-fcf9-ca29ed0e4f74"
      },
      "execution_count": 32,
      "outputs": [
        {
          "output_type": "execute_result",
          "data": {
            "text/plain": [
              "tensor([[5., 2., 3., 4., 5., 6., 7., 8., 9.],\n",
              "        [5., 2., 3., 4., 5., 6., 7., 8., 9.],\n",
              "        [5., 2., 3., 4., 5., 6., 7., 8., 9.],\n",
              "        [5., 2., 3., 4., 5., 6., 7., 8., 9.]])"
            ]
          },
          "metadata": {},
          "execution_count": 32
        }
      ]
    },
    {
      "cell_type": "code",
      "source": [
        "a_stacked = torch.stack([a,a], dim = 1)\n",
        "a_stacked"
      ],
      "metadata": {
        "colab": {
          "base_uri": "https://localhost:8080/"
        },
        "id": "vrf9eckz766w",
        "outputId": "8c8b8c0f-6ce4-40cf-d576-0c8e024a8917"
      },
      "execution_count": 34,
      "outputs": [
        {
          "output_type": "execute_result",
          "data": {
            "text/plain": [
              "tensor([[5., 5.],\n",
              "        [2., 2.],\n",
              "        [3., 3.],\n",
              "        [4., 4.],\n",
              "        [5., 5.],\n",
              "        [6., 6.],\n",
              "        [7., 7.],\n",
              "        [8., 8.],\n",
              "        [9., 9.]])"
            ]
          },
          "metadata": {},
          "execution_count": 34
        }
      ]
    },
    {
      "cell_type": "code",
      "source": [],
      "metadata": {
        "id": "g1q6ArOF765M"
      },
      "execution_count": null,
      "outputs": []
    },
    {
      "cell_type": "code",
      "source": [],
      "metadata": {
        "id": "Nl66G4xm763P"
      },
      "execution_count": null,
      "outputs": []
    },
    {
      "cell_type": "code",
      "source": [],
      "metadata": {
        "id": "2v1lK_CI76Vp"
      },
      "execution_count": null,
      "outputs": []
    },
    {
      "cell_type": "code",
      "source": [],
      "metadata": {
        "id": "CAZ7egsr76QQ"
      },
      "execution_count": null,
      "outputs": []
    },
    {
      "cell_type": "code",
      "source": [],
      "metadata": {
        "id": "PvNiqhAz76N-"
      },
      "execution_count": null,
      "outputs": []
    },
    {
      "cell_type": "code",
      "source": [],
      "metadata": {
        "id": "yDyPBDRh76Mj"
      },
      "execution_count": null,
      "outputs": []
    },
    {
      "cell_type": "code",
      "source": [],
      "metadata": {
        "id": "rqGjwktJ76Kv"
      },
      "execution_count": null,
      "outputs": []
    },
    {
      "cell_type": "code",
      "source": [],
      "metadata": {
        "id": "T0XUrRM176DP"
      },
      "execution_count": null,
      "outputs": []
    },
    {
      "cell_type": "code",
      "source": [],
      "metadata": {
        "id": "CcLCLseA76B2"
      },
      "execution_count": null,
      "outputs": []
    },
    {
      "cell_type": "code",
      "source": [],
      "metadata": {
        "id": "LnJZ7HyS758f"
      },
      "execution_count": null,
      "outputs": []
    },
    {
      "cell_type": "code",
      "source": [],
      "metadata": {
        "id": "4K7Ob-r3756v"
      },
      "execution_count": null,
      "outputs": []
    },
    {
      "cell_type": "code",
      "source": [],
      "metadata": {
        "id": "Vn2V4GVB753x"
      },
      "execution_count": null,
      "outputs": []
    },
    {
      "cell_type": "code",
      "source": [],
      "metadata": {
        "id": "4fJquTxq752t"
      },
      "execution_count": null,
      "outputs": []
    },
    {
      "cell_type": "code",
      "source": [],
      "metadata": {
        "id": "stcP8R-l75y5"
      },
      "execution_count": null,
      "outputs": []
    },
    {
      "cell_type": "code",
      "source": [],
      "metadata": {
        "id": "CEZSDBwV75t4"
      },
      "execution_count": null,
      "outputs": []
    },
    {
      "cell_type": "code",
      "source": [],
      "metadata": {
        "id": "k33692_L75qX"
      },
      "execution_count": null,
      "outputs": []
    },
    {
      "cell_type": "code",
      "source": [],
      "metadata": {
        "id": "ppC1MN7S75nn"
      },
      "execution_count": null,
      "outputs": []
    },
    {
      "cell_type": "code",
      "source": [],
      "metadata": {
        "id": "QALytzGz75JB"
      },
      "execution_count": null,
      "outputs": []
    },
    {
      "cell_type": "code",
      "source": [],
      "metadata": {
        "id": "ipDZ77sq7477"
      },
      "execution_count": null,
      "outputs": []
    },
    {
      "cell_type": "code",
      "source": [],
      "metadata": {
        "id": "oxEfh8Nl745n"
      },
      "execution_count": null,
      "outputs": []
    },
    {
      "cell_type": "code",
      "source": [],
      "metadata": {
        "id": "JWcDNjtq74t-"
      },
      "execution_count": null,
      "outputs": []
    },
    {
      "cell_type": "code",
      "source": [],
      "metadata": {
        "id": "qg2P2Eu874pK"
      },
      "execution_count": null,
      "outputs": []
    },
    {
      "cell_type": "code",
      "source": [],
      "metadata": {
        "id": "Ny3J0pWP74gn"
      },
      "execution_count": null,
      "outputs": []
    },
    {
      "cell_type": "code",
      "source": [],
      "metadata": {
        "id": "kWlBxNJd73_5"
      },
      "execution_count": null,
      "outputs": []
    }
  ]
}